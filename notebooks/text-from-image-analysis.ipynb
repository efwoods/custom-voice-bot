{
 "cells": [
  {
   "cell_type": "markdown",
   "id": "1179ebd9",
   "metadata": {},
   "source": [
    "## Imports"
   ]
  },
  {
   "cell_type": "code",
   "execution_count": 5,
   "id": "5c267457",
   "metadata": {},
   "outputs": [],
   "source": [
    "from glob import glob \n",
    "from PIL import Image\n",
    "import cv2\n",
    "import numpy as np\n",
    "from PIL import Image\n",
    "import pytesseract"
   ]
  },
  {
   "cell_type": "code",
   "execution_count": null,
   "id": "05495143",
   "metadata": {},
   "outputs": [],
   "source": [
    "\n",
    "# rgb_color = tuple(int(CHAT_BUBBLE_COLOR[i:i+2], 16) for i in (1, 3, 5))  # (42, 42, 45)\n",
    "\n",
    "# Color of receiving chat in apple devices:\n",
    "CHAT_BUBBLE_COLOR = '#2a2a2d'\n",
    "CHAT_TEXT_COLOR = '#ffffff'\n",
    "\n",
    "# Loading Images\n",
    "image_dir = \"../data/raw_images/\"\n",
    "image_list = sorted(glob(image_dir + \"*.PNG\"))\n",
    "\n",
    "sample_image = image_list[0]\n",
    "\n",
    "image = cv2.imread(sample_image)\n",
    "image_rgb = cv2.cvtColor(image, cv2.COLOR_BGR2RGB)\n",
    "\n",
    "\n",
    "# Convert image to HSV for better color masking\n",
    "hsv = cv2.cvtColor(image, cv2.COLOR_BGR2HSV)\n",
    "\n",
    "# Convert target RGB to HSV\n",
    "target = np.uint8([[rgb_color]])\n",
    "target_hsv = cv2.cvtColor(target, cv2.COLOR_RGB2HSV)[0][0]\n",
    "\n",
    "\n",
    "# Define color range around the target (tune these for better results)\n",
    "tolerance = 20  # how much to tolerate variation in color\n",
    "lower = np.array([max(target_hsv[0]-tolerance, 0), 30, 30])\n",
    "upper = np.array([min(target_hsv[0]+tolerance, 179), 255, 255])\n",
    "\n",
    "\n",
    "# Create mask\n",
    "mask = cv2.inRange(hsv, lower, upper)\n",
    "\n",
    "# Optional: clean up mask\n",
    "kernel = np.ones((3, 3), np.uint8)\n",
    "mask = cv2.morphologyEx(mask, cv2.MORPH_OPEN, kernel)\n",
    "\n",
    "# Find contours in the mask\n",
    "contours, _ = cv2.findContours(mask, cv2.RETR_EXTERNAL, cv2.CHAIN_APPROX_SIMPLE)\n",
    "\n",
    "extracted_texts = []\n",
    "\n",
    "for cnt in contours:\n",
    "    x, y, w, h = cv2.boundingRect(cnt)\n",
    "    if w * h > 500:  # filter out tiny areas\n",
    "        bubble_crop = image_rgb[y:y+h, x:x+w]\n",
    "        \n",
    "        # Convert to PIL image\n",
    "        pil_img = Image.fromarray(bubble_crop)\n",
    "\n",
    "        # OCR\n",
    "        text = pytesseract.image_to_string(pil_img)\n",
    "        if text.strip():\n",
    "            extracted_texts.append(text.strip())\n"
   ]
  },
  {
   "cell_type": "code",
   "execution_count": 25,
   "id": "b8ce3c14",
   "metadata": {},
   "outputs": [
    {
     "name": "stdout",
     "output_type": "stream",
     "text": [
      "Bubble 1: @ © @ -»‘s'\n",
      "Bubble 2: 4a\n",
      "\n",
      "Melissa was there when you\n",
      "opened the garage door to the\n",
      "old house and | was moving us to\n",
      "the new one and you said “God\n",
      "\n",
      "_ bless him”\n",
      "Bubble 3: | ‘of\n",
      "| m on stage 3/4 of grief\n",
      "Bubble 4: Give katie and caroline hugs\n",
      "_ from me please\n",
      "Bubble 5: 4a\n",
      "\n",
      "she’s not mad - she's like what\n",
      "the hell - you could see\n",
      "_ EVERYTHING from up here!? y\n",
      "\n",
      ">»\n",
      "Bubble 6: 4 >\n",
      "\n",
      "_ Love you too mom 1\n",
      "Bubble 7: ot) «LTE @\n"
     ]
    }
   ],
   "source": [
    "\n",
    "# Output all extracted bubble texts\n",
    "for i, text in enumerate(extracted_texts, 1):\n",
    "    print(f\"Bubble {i}: {text}\")\n"
   ]
  },
  {
   "cell_type": "code",
   "execution_count": null,
   "id": "744fd61b",
   "metadata": {},
   "outputs": [],
   "source": [
    "\n",
    "# Comparison to ground truth\n",
    "Image.open(sample_image)\n",
    "\n",
    "\n"
   ]
  }
 ],
 "metadata": {
  "kernelspec": {
   "display_name": "custom-voice-bot",
   "language": "python",
   "name": "python3"
  },
  "language_info": {
   "codemirror_mode": {
    "name": "ipython",
    "version": 3
   },
   "file_extension": ".py",
   "mimetype": "text/x-python",
   "name": "python",
   "nbconvert_exporter": "python",
   "pygments_lexer": "ipython3",
   "version": "3.11.13"
  }
 },
 "nbformat": 4,
 "nbformat_minor": 5
}
