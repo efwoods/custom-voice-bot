{
 "cells": [
  {
   "cell_type": "code",
   "execution_count": null,
   "id": "f8df352f",
   "metadata": {},
   "outputs": [],
   "source": [
    "# Goal \n",
    "    # - [ ]  Store the text in a vector store\n",
    "    # - [ ]  Embed it\n",
    "    # - [ ]  Create a chatbot over that content\n",
    "    # - [ ]  fine-tune a smaller open-source model on the extracted data"
   ]
  },
  {
   "cell_type": "code",
   "execution_count": 2,
   "id": "14b70a5c",
   "metadata": {},
   "outputs": [],
   "source": [
    "import os\n",
    "import faiss\n",
    "import numpy as np"
   ]
  },
  {
   "cell_type": "code",
   "execution_count": 4,
   "id": "8977960d",
   "metadata": {},
   "outputs": [
    {
     "data": {
      "text/plain": [
       "'/home/linux-pc/gh/projects/NeuralNexus/New-Features/CustomLLM/custom-voice-bot/notebooks'"
      ]
     },
     "execution_count": 4,
     "metadata": {},
     "output_type": "execute_result"
    }
   ],
   "source": [
    "os.getcwd()"
   ]
  },
  {
   "cell_type": "code",
   "execution_count": 5,
   "id": "3d9012de",
   "metadata": {},
   "outputs": [
    {
     "name": "stderr",
     "output_type": "stream",
     "text": [
      "/home/linux-pc/anaconda3/envs/custom-voice-bot/lib/python3.11/site-packages/tqdm/auto.py:21: TqdmWarning: IProgress not found. Please update jupyter and ipywidgets. See https://ipywidgets.readthedocs.io/en/stable/user_install.html\n",
      "  from .autonotebook import tqdm as notebook_tqdm\n"
     ]
    }
   ],
   "source": [
    "from sentence_transformers import SentenceTransformer\n",
    "RESPONSE_PATH = '/home/linux-pc/gh/projects/NeuralNexus/New-Features/CustomLLM/custom-voice-bot/data/prompt_response/response1.json'\n",
    "import json"
   ]
  },
  {
   "cell_type": "code",
   "execution_count": 6,
   "id": "411c9baa",
   "metadata": {},
   "outputs": [],
   "source": [
    "with open(RESPONSE_PATH, 'r', encoding='utf-8') as f:\n",
    "    data = json.load(f)"
   ]
  },
  {
   "cell_type": "code",
   "execution_count": 7,
   "id": "351729a7",
   "metadata": {},
   "outputs": [],
   "source": [
    "texts = data[\"text\"]"
   ]
  },
  {
   "cell_type": "code",
   "execution_count": 8,
   "id": "13f9d225",
   "metadata": {},
   "outputs": [],
   "source": [
    "# Load the embedding model\n",
    "model = SentenceTransformer('all-MiniLM-L6-v2')\n",
    "\n",
    "# Compute embeddings for all texts\n",
    "embeddings = model.encode(data[\"text\"], convert_to_tensor=True)"
   ]
  },
  {
   "cell_type": "code",
   "execution_count": 9,
   "id": "b7552a4c",
   "metadata": {},
   "outputs": [],
   "source": [
    "# Store embeddings in a vector store\n",
    "\n",
    "# Convert embeddings to numpy array (float32)\n",
    "embeddings_np = embeddings.cpu().numpy().astype('float32')\n",
    "\n",
    "# Dimension of embeddings\n",
    "d = embeddings_np.shape[1]\n",
    "\n",
    "# Create FAISS index\n",
    "index = faiss.IndexFlatL2(d)  # L2 distance metric\n",
    "\n",
    "# Add embeddings to index\n",
    "index.add(embeddings_np)\n",
    "\n",
    "# Save index if needed\n",
    "faiss.write_index(index, \"texts.index\")\n"
   ]
  },
  {
   "cell_type": "code",
   "execution_count": 10,
   "id": "37c37b59",
   "metadata": {},
   "outputs": [],
   "source": [
    "def search_similar(query, index, model, texts, k=3):\n",
    "    query_embedding = model.encode([query], convert_to_tensor=True).cpu().numpy().astype('float32')\n",
    "    distances, indices = index.search(query_embedding, k)\n",
    "    results = [texts[i] for i in indices[0]]\n",
    "    return results"
   ]
  },
  {
   "cell_type": "code",
   "execution_count": 11,
   "id": "fc47dce0",
   "metadata": {},
   "outputs": [
    {
     "name": "stdout",
     "output_type": "stream",
     "text": [
      "Top relevant texts: [\"I'm here\", \"Well I'm feeling ok so far ... slight headache but if you want to drive out of town we can .... Let's just see how I'm feeling when I get home! I'm here til noon today!\", 'Love you both ..... I am fine']\n"
     ]
    }
   ],
   "source": [
    "query = \"Hey I miss you a lot\"\n",
    "results = search_similar(query, index, model, texts)\n",
    "print(\"Top relevant texts:\", results)"
   ]
  },
  {
   "cell_type": "code",
   "execution_count": null,
   "id": "3af4ca3e",
   "metadata": {},
   "outputs": [],
   "source": [
    "# Fine tuning a model on the text data:\n"
   ]
  },
  {
   "cell_type": "code",
   "execution_count": 13,
   "id": "21e12aeb",
   "metadata": {},
   "outputs": [],
   "source": [
    "from transformers import GPT2Tokenizer, GPT2LMHeadModel, Trainer, TrainingArguments\n",
    "from datasets import Dataset"
   ]
  },
  {
   "cell_type": "code",
   "execution_count": 14,
   "id": "a7d3d125",
   "metadata": {},
   "outputs": [],
   "source": [
    "# Wrap your texts\n",
    "dataset = Dataset.from_dict({\"text\": texts})"
   ]
  },
  {
   "cell_type": "markdown",
   "id": "ce1cfafd",
   "metadata": {},
   "source": [
    "tokenizer = GPT2Tokenizer.from_pretrained(\"gpt2\")\n",
    "tokenizer.pad_token = tokenizer.eos_token\n",
    "model_ft = GPT2LMHeadModel.from_pretrained(\"gpt2\")\n",
    "model_ft.resize_token_embeddings(len(tokenizer))"
   ]
  },
  {
   "cell_type": "code",
   "execution_count": 19,
   "id": "838f241d",
   "metadata": {},
   "outputs": [],
   "source": [
    "# Tokenize\n",
    "def tokenize(example):\n",
    "    return tokenizer(example[\"text\"], padding=\"max_length\", truncation=True, max_length=64)\n"
   ]
  },
  {
   "cell_type": "code",
   "execution_count": null,
   "id": "8530e8d6",
   "metadata": {},
   "outputs": [],
   "source": [
    "\n",
    "tokenized_dataset = dataset.map(tokenize)"
   ]
  },
  {
   "cell_type": "code",
   "execution_count": 18,
   "id": "ae57eff8",
   "metadata": {},
   "outputs": [
    {
     "ename": "NameError",
     "evalue": "name 'tokenized_dataset' is not defined",
     "output_type": "error",
     "traceback": [
      "\u001b[31m---------------------------------------------------------------------------\u001b[39m",
      "\u001b[31mNameError\u001b[39m                                 Traceback (most recent call last)",
      "\u001b[36mCell\u001b[39m\u001b[36m \u001b[39m\u001b[32mIn[18]\u001b[39m\u001b[32m, line 13\u001b[39m\n\u001b[32m      1\u001b[39m \u001b[38;5;66;03m# Fine-tune\u001b[39;00m\n\u001b[32m      2\u001b[39m training_args = TrainingArguments(\n\u001b[32m      3\u001b[39m     output_dir=\u001b[33m\"\u001b[39m\u001b[33m./finetuned-gpt2\u001b[39m\u001b[33m\"\u001b[39m,\n\u001b[32m      4\u001b[39m     per_device_train_batch_size=\u001b[32m2\u001b[39m,\n\u001b[32m   (...)\u001b[39m\u001b[32m      7\u001b[39m     save_steps=\u001b[32m10\u001b[39m,\n\u001b[32m      8\u001b[39m )\n\u001b[32m     10\u001b[39m trainer = Trainer(\n\u001b[32m     11\u001b[39m     model=model_ft,\n\u001b[32m     12\u001b[39m     args=training_args,\n\u001b[32m---> \u001b[39m\u001b[32m13\u001b[39m     train_dataset=\u001b[43mtokenized_dataset\u001b[49m,\n\u001b[32m     14\u001b[39m )\n\u001b[32m     16\u001b[39m trainer.train()\n",
      "\u001b[31mNameError\u001b[39m: name 'tokenized_dataset' is not defined"
     ]
    }
   ],
   "source": [
    "\n",
    "# Fine-tune\n",
    "training_args = TrainingArguments(\n",
    "    output_dir=\"./finetuned-gpt2\",\n",
    "    per_device_train_batch_size=2,\n",
    "    num_train_epochs=5,\n",
    "    logging_steps=5,\n",
    "    save_steps=10,\n",
    ")\n",
    "\n",
    "trainer = Trainer(\n",
    "    model=model_ft,\n",
    "    args=training_args,\n",
    "    train_dataset=tokenized_dataset,\n",
    ")\n",
    "\n",
    "trainer.train()\n"
   ]
  }
 ],
 "metadata": {
  "kernelspec": {
   "display_name": "custom-voice-bot",
   "language": "python",
   "name": "python3"
  },
  "language_info": {
   "codemirror_mode": {
    "name": "ipython",
    "version": 3
   },
   "file_extension": ".py",
   "mimetype": "text/x-python",
   "name": "python",
   "nbconvert_exporter": "python",
   "pygments_lexer": "ipython3",
   "version": "3.11.13"
  }
 },
 "nbformat": 4,
 "nbformat_minor": 5
}
