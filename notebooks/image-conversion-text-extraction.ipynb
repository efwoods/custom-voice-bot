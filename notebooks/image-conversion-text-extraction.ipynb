{
 "cells": [
  {
   "cell_type": "code",
   "execution_count": 3,
   "id": "a02598d9",
   "metadata": {},
   "outputs": [],
   "source": [
    "import img2pdf\n",
    "from glob import glob"
   ]
  },
  {
   "cell_type": "code",
   "execution_count": 4,
   "id": "97ec189b",
   "metadata": {},
   "outputs": [],
   "source": [
    "data = '../data/raw_images/'"
   ]
  },
  {
   "cell_type": "code",
   "execution_count": 9,
   "id": "9f335f33",
   "metadata": {},
   "outputs": [],
   "source": [
    "data_file_l = sorted(glob(data + \"*.PNG\"))"
   ]
  },
  {
   "cell_type": "code",
   "execution_count": 11,
   "id": "2179595b",
   "metadata": {},
   "outputs": [],
   "source": [
    "data_file = data_file_l[0]"
   ]
  },
  {
   "cell_type": "code",
   "execution_count": 14,
   "id": "ca54ec58",
   "metadata": {},
   "outputs": [],
   "source": [
    "with open(data_file, 'rb') as f:\n",
    "    data = f.read()"
   ]
  },
  {
   "cell_type": "code",
   "execution_count": null,
   "id": "a45cdf71",
   "metadata": {},
   "outputs": [
    {
     "name": "stderr",
     "output_type": "stream",
     "text": [
      "Image with transparency and a bit depth of 16.\n",
      "This is unsupported due to PIL limitations.\n",
      "If you accept a lossy conversion, you can manually convert your images to 8 bit using `convert -depth 8` from imagemagick\n"
     ]
    },
    {
     "ename": "AlphaChannelError",
     "evalue": "Refusing to work with multiple >8bit channels.",
     "output_type": "error",
     "traceback": [
      "\u001b[31m---------------------------------------------------------------------------\u001b[39m",
      "\u001b[31mAlphaChannelError\u001b[39m                         Traceback (most recent call last)",
      "\u001b[36mCell\u001b[39m\u001b[36m \u001b[39m\u001b[32mIn[15]\u001b[39m\u001b[32m, line 1\u001b[39m\n\u001b[32m----> \u001b[39m\u001b[32m1\u001b[39m png_bytes = \u001b[43mimg2pdf\u001b[49m\u001b[43m.\u001b[49m\u001b[43mconvert\u001b[49m\u001b[43m(\u001b[49m\u001b[43mdata\u001b[49m\u001b[43m)\u001b[49m\n",
      "\u001b[36mFile \u001b[39m\u001b[32m~/anaconda3/envs/custom-voice-bot/lib/python3.11/site-packages/img2pdf.py:2942\u001b[39m, in \u001b[36mconvert\u001b[39m\u001b[34m(outputstream, *images, **kwargs)\u001b[39m\n\u001b[32m   2941\u001b[39m \u001b[38;5;28;01mdef\u001b[39;00m\u001b[38;5;250m \u001b[39m\u001b[34mconvert\u001b[39m(*images, outputstream=\u001b[38;5;28;01mNone\u001b[39;00m, **kwargs):\n\u001b[32m-> \u001b[39m\u001b[32m2942\u001b[39m     pdf = \u001b[43mconvert_to_docobject\u001b[49m\u001b[43m(\u001b[49m\u001b[43m*\u001b[49m\u001b[43mimages\u001b[49m\u001b[43m,\u001b[49m\u001b[43m \u001b[49m\u001b[43m*\u001b[49m\u001b[43m*\u001b[49m\u001b[43mkwargs\u001b[49m\u001b[43m)\u001b[49m\n\u001b[32m   2943\u001b[39m     \u001b[38;5;28;01mif\u001b[39;00m outputstream:\n\u001b[32m   2944\u001b[39m         pdf.tostream(outputstream)\n",
      "\u001b[36mFile \u001b[39m\u001b[32m~/anaconda3/envs/custom-voice-bot/lib/python3.11/site-packages/img2pdf.py:2864\u001b[39m, in \u001b[36mconvert_to_docobject\u001b[39m\u001b[34m(*images, **kwargs)\u001b[39m\n\u001b[32m   2845\u001b[39m         f.close()\n\u001b[32m   2847\u001b[39m \u001b[38;5;66;03m# md5 = hashlib.md5(rawdata).hexdigest()\u001b[39;00m\n\u001b[32m   2848\u001b[39m \u001b[38;5;66;03m# with open(\"./testdata/\" + md5, \"wb\") as f:\u001b[39;00m\n\u001b[32m   2849\u001b[39m \u001b[38;5;66;03m#    f.write(rawdata)\u001b[39;00m\n\u001b[32m   2851\u001b[39m \u001b[38;5;28;01mfor\u001b[39;00m (\n\u001b[32m   2852\u001b[39m     color,\n\u001b[32m   2853\u001b[39m     ndpi,\n\u001b[32m   2854\u001b[39m     imgformat,\n\u001b[32m   2855\u001b[39m     imgdata,\n\u001b[32m   2856\u001b[39m     smaskdata,\n\u001b[32m   2857\u001b[39m     imgwidthpx,\n\u001b[32m   2858\u001b[39m     imgheightpx,\n\u001b[32m   2859\u001b[39m     palette,\n\u001b[32m   2860\u001b[39m     inverted,\n\u001b[32m   2861\u001b[39m     depth,\n\u001b[32m   2862\u001b[39m     rotation,\n\u001b[32m   2863\u001b[39m     iccp,\n\u001b[32m-> \u001b[39m\u001b[32m2864\u001b[39m ) \u001b[38;5;129;01min\u001b[39;00m \u001b[43mread_images\u001b[49m\u001b[43m(\u001b[49m\n\u001b[32m   2865\u001b[39m \u001b[43m    \u001b[49m\u001b[43mrawdata\u001b[49m\u001b[43m,\u001b[49m\n\u001b[32m   2866\u001b[39m \u001b[43m    \u001b[49m\u001b[43mkwargs\u001b[49m\u001b[43m[\u001b[49m\u001b[33;43m\"\u001b[39;49m\u001b[33;43mcolorspace\u001b[39;49m\u001b[33;43m\"\u001b[39;49m\u001b[43m]\u001b[49m\u001b[43m,\u001b[49m\n\u001b[32m   2867\u001b[39m \u001b[43m    \u001b[49m\u001b[43mkwargs\u001b[49m\u001b[43m[\u001b[49m\u001b[33;43m\"\u001b[39;49m\u001b[33;43mfirst_frame_only\u001b[39;49m\u001b[33;43m\"\u001b[39;49m\u001b[43m]\u001b[49m\u001b[43m,\u001b[49m\n\u001b[32m   2868\u001b[39m \u001b[43m    \u001b[49m\u001b[43mkwargs\u001b[49m\u001b[43m[\u001b[49m\u001b[33;43m\"\u001b[39;49m\u001b[33;43mrotation\u001b[39;49m\u001b[33;43m\"\u001b[39;49m\u001b[43m]\u001b[49m\u001b[43m,\u001b[49m\n\u001b[32m   2869\u001b[39m \u001b[43m    \u001b[49m\u001b[43mkwargs\u001b[49m\u001b[43m[\u001b[49m\u001b[33;43m\"\u001b[39;49m\u001b[33;43minclude_thumbnails\u001b[39;49m\u001b[33;43m\"\u001b[39;49m\u001b[43m]\u001b[49m\u001b[43m,\u001b[49m\n\u001b[32m   2870\u001b[39m \u001b[43m\u001b[49m\u001b[43m)\u001b[49m:\n\u001b[32m   2871\u001b[39m     pagewidth, pageheight, imgwidthpdf, imgheightpdf = kwargs[\u001b[33m\"\u001b[39m\u001b[33mlayout_fun\u001b[39m\u001b[33m\"\u001b[39m](\n\u001b[32m   2872\u001b[39m         imgwidthpx, imgheightpx, ndpi\n\u001b[32m   2873\u001b[39m     )\n\u001b[32m   2875\u001b[39m     userunit = \u001b[38;5;28;01mNone\u001b[39;00m\n",
      "\u001b[36mFile \u001b[39m\u001b[32m~/anaconda3/envs/custom-voice-bot/lib/python3.11/site-packages/img2pdf.py:2142\u001b[39m, in \u001b[36mread_images\u001b[39m\u001b[34m(rawdata, colorspace, first_frame_only, rot, include_thumbnails)\u001b[39m\n\u001b[32m   2134\u001b[39m \u001b[38;5;66;03m# We can directly embed the IDAT chunk of PNG images if the PNG is not\u001b[39;00m\n\u001b[32m   2135\u001b[39m \u001b[38;5;66;03m# interlaced\u001b[39;00m\n\u001b[32m   2136\u001b[39m \u001b[38;5;66;03m#\u001b[39;00m\n\u001b[32m   (...)\u001b[39m\u001b[32m   2139\u001b[39m \u001b[38;5;66;03m# IHDR chunk. We know where to find that in the file because the IHDR chunk\u001b[39;00m\n\u001b[32m   2140\u001b[39m \u001b[38;5;66;03m# must be the first chunk.\u001b[39;00m\n\u001b[32m   2141\u001b[39m \u001b[38;5;28;01mif\u001b[39;00m imgformat == ImageFormat.PNG \u001b[38;5;129;01mand\u001b[39;00m rawdata[\u001b[32m28\u001b[39m] == \u001b[32m0\u001b[39m:\n\u001b[32m-> \u001b[39m\u001b[32m2142\u001b[39m     color, ndpi, imgwidthpx, imgheightpx, rotation, iccp = \u001b[43mget_imgmetadata\u001b[49m\u001b[43m(\u001b[49m\n\u001b[32m   2143\u001b[39m \u001b[43m        \u001b[49m\u001b[43mimgdata\u001b[49m\u001b[43m,\u001b[49m\u001b[43m \u001b[49m\u001b[43mimgformat\u001b[49m\u001b[43m,\u001b[49m\u001b[43m \u001b[49m\u001b[43mdefault_dpi\u001b[49m\u001b[43m,\u001b[49m\u001b[43m \u001b[49m\u001b[43mcolorspace\u001b[49m\u001b[43m,\u001b[49m\u001b[43m \u001b[49m\u001b[43mrawdata\u001b[49m\u001b[43m,\u001b[49m\u001b[43m \u001b[49m\u001b[43mrot\u001b[49m\n\u001b[32m   2144\u001b[39m \u001b[43m    \u001b[49m\u001b[43m)\u001b[49m\n\u001b[32m   2145\u001b[39m     \u001b[38;5;28;01mif\u001b[39;00m (\n\u001b[32m   2146\u001b[39m         color != Colorspace.RGBA\n\u001b[32m   2147\u001b[39m         \u001b[38;5;129;01mand\u001b[39;00m color != Colorspace.LA\n\u001b[32m   2148\u001b[39m         \u001b[38;5;129;01mand\u001b[39;00m color != Colorspace.PA\n\u001b[32m   2149\u001b[39m         \u001b[38;5;129;01mand\u001b[39;00m \u001b[33m\"\u001b[39m\u001b[33mtransparency\u001b[39m\u001b[33m\"\u001b[39m \u001b[38;5;129;01mnot\u001b[39;00m \u001b[38;5;129;01min\u001b[39;00m imgdata.info\n\u001b[32m   2150\u001b[39m     ):\n\u001b[32m   2151\u001b[39m         pngidat, palette = parse_png(rawdata)\n",
      "\u001b[36mFile \u001b[39m\u001b[32m~/anaconda3/envs/custom-voice-bot/lib/python3.11/site-packages/img2pdf.py:1402\u001b[39m, in \u001b[36mget_imgmetadata\u001b[39m\u001b[34m(imgdata, imgformat, default_dpi, colorspace, rawdata, rotreq)\u001b[39m\n\u001b[32m   1397\u001b[39m             logger.warning(\u001b[33m\"\u001b[39m\u001b[33mThis is unsupported due to PIL limitations.\u001b[39m\u001b[33m\"\u001b[39m)\n\u001b[32m   1398\u001b[39m             logger.warning(\n\u001b[32m   1399\u001b[39m                 \u001b[33m\"\u001b[39m\u001b[33mIf you accept a lossy conversion, you can manually convert \u001b[39m\u001b[33m\"\u001b[39m\n\u001b[32m   1400\u001b[39m                 \u001b[33m\"\u001b[39m\u001b[33myour images to 8 bit using `convert -depth 8` from imagemagick\u001b[39m\u001b[33m\"\u001b[39m\n\u001b[32m   1401\u001b[39m             )\n\u001b[32m-> \u001b[39m\u001b[32m1402\u001b[39m             \u001b[38;5;28;01mraise\u001b[39;00m AlphaChannelError(\n\u001b[32m   1403\u001b[39m                 \u001b[33m\"\u001b[39m\u001b[33mRefusing to work with multiple >8bit channels.\u001b[39m\u001b[33m\"\u001b[39m\n\u001b[32m   1404\u001b[39m             )\n\u001b[32m   1405\u001b[39m \u001b[38;5;28;01melif\u001b[39;00m ics \u001b[38;5;129;01min\u001b[39;00m [\u001b[33m\"\u001b[39m\u001b[33mLA\u001b[39m\u001b[33m\"\u001b[39m, \u001b[33m\"\u001b[39m\u001b[33mPA\u001b[39m\u001b[33m\"\u001b[39m, \u001b[33m\"\u001b[39m\u001b[33mRGBA\u001b[39m\u001b[33m\"\u001b[39m] \u001b[38;5;129;01mor\u001b[39;00m (\n\u001b[32m   1406\u001b[39m     imgdata \u001b[38;5;129;01mis\u001b[39;00m \u001b[38;5;129;01mnot\u001b[39;00m \u001b[38;5;28;01mNone\u001b[39;00m \u001b[38;5;129;01mand\u001b[39;00m \u001b[33m\"\u001b[39m\u001b[33mtransparency\u001b[39m\u001b[33m\"\u001b[39m \u001b[38;5;129;01min\u001b[39;00m imgdata.info\n\u001b[32m   1407\u001b[39m ):\n\u001b[32m   1408\u001b[39m     \u001b[38;5;28;01mraise\u001b[39;00m AlphaChannelError(\u001b[33m\"\u001b[39m\u001b[33mThis function must not be called on images with alpha\u001b[39m\u001b[33m\"\u001b[39m)\n",
      "\u001b[31mAlphaChannelError\u001b[39m: Refusing to work with multiple >8bit channels."
     ]
    }
   ],
   "source": [
    "png_bytes = img2pdf.convert(data)"
   ]
  },
  {
   "cell_type": "code",
   "execution_count": null,
   "id": "97b7dbe9",
   "metadata": {},
   "outputs": [],
   "source": [
    "from PIL import Image\n",
    "import pytesseract\n",
    "\n",
    "def extract_text_from_image(image_path: str) -> str:\n",
    "    # Open image\n",
    "    img = Image.open(image_path)\n",
    "\n",
    "    # Optional: Convert 16-bit or RGBA images to a compatible format\n",
    "    if img.mode in (\"I;16\", \"I\", \"RGBA\", \"LA\", \"P\"):\n",
    "        img = img.convert(\"RGB\")\n",
    "\n",
    "    # Use pytesseract to extract text\n",
    "    text = pytesseract.image_to_string(img)\n",
    "\n",
    "    return text.strip()\n",
    "\n",
    "# Example usage\n",
    "image_path = \"input.png\"\n",
    "text = extract_text_from_image(image_path)\n",
    "print(\"Extracted Text:\\n\", text)\n"
   ]
  }
 ],
 "metadata": {
  "kernelspec": {
   "display_name": "custom-voice-bot",
   "language": "python",
   "name": "python3"
  },
  "language_info": {
   "codemirror_mode": {
    "name": "ipython",
    "version": 3
   },
   "file_extension": ".py",
   "mimetype": "text/x-python",
   "name": "python",
   "nbconvert_exporter": "python",
   "pygments_lexer": "ipython3",
   "version": "3.11.13"
  }
 },
 "nbformat": 4,
 "nbformat_minor": 5
}
